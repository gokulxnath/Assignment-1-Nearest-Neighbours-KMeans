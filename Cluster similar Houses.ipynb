{
 "cells": [
  {
   "cell_type": "code",
   "execution_count": 1,
   "id": "b1473165",
   "metadata": {},
   "outputs": [],
   "source": [
    "# Importing important libraries\n",
    "import pandas as pd\n",
    "import numpy as np\n",
    "from sklearn import preprocessing\n",
    "from sklearn.preprocessing import MinMaxScaler\n",
    "from sklearn import metrics\n",
    "import matplotlib.pyplot as plt\n",
    "%matplotlib inline"
   ]
  },
  {
   "cell_type": "code",
   "execution_count": 2,
   "id": "2adfa88f",
   "metadata": {},
   "outputs": [
    {
     "data": {
      "text/html": [
       "<div>\n",
       "<style scoped>\n",
       "    .dataframe tbody tr th:only-of-type {\n",
       "        vertical-align: middle;\n",
       "    }\n",
       "\n",
       "    .dataframe tbody tr th {\n",
       "        vertical-align: top;\n",
       "    }\n",
       "\n",
       "    .dataframe thead th {\n",
       "        text-align: right;\n",
       "    }\n",
       "</style>\n",
       "<table border=\"1\" class=\"dataframe\">\n",
       "  <thead>\n",
       "    <tr style=\"text-align: right;\">\n",
       "      <th></th>\n",
       "      <th>Unnamed: 0</th>\n",
       "      <th>Sqft</th>\n",
       "      <th>Floor</th>\n",
       "      <th>TotalFloor</th>\n",
       "      <th>Bedroom</th>\n",
       "      <th>Living.Room</th>\n",
       "      <th>Bathroom</th>\n",
       "      <th>Price</th>\n",
       "    </tr>\n",
       "  </thead>\n",
       "  <tbody>\n",
       "    <tr>\n",
       "      <th>0</th>\n",
       "      <td>1</td>\n",
       "      <td>1177.698</td>\n",
       "      <td>2</td>\n",
       "      <td>7</td>\n",
       "      <td>2</td>\n",
       "      <td>2</td>\n",
       "      <td>2</td>\n",
       "      <td>62000</td>\n",
       "    </tr>\n",
       "    <tr>\n",
       "      <th>1</th>\n",
       "      <td>2</td>\n",
       "      <td>2134.800</td>\n",
       "      <td>5</td>\n",
       "      <td>7</td>\n",
       "      <td>4</td>\n",
       "      <td>2</td>\n",
       "      <td>2</td>\n",
       "      <td>78000</td>\n",
       "    </tr>\n",
       "    <tr>\n",
       "      <th>2</th>\n",
       "      <td>3</td>\n",
       "      <td>1138.560</td>\n",
       "      <td>5</td>\n",
       "      <td>7</td>\n",
       "      <td>2</td>\n",
       "      <td>2</td>\n",
       "      <td>1</td>\n",
       "      <td>58000</td>\n",
       "    </tr>\n",
       "    <tr>\n",
       "      <th>3</th>\n",
       "      <td>4</td>\n",
       "      <td>1458.780</td>\n",
       "      <td>2</td>\n",
       "      <td>7</td>\n",
       "      <td>3</td>\n",
       "      <td>2</td>\n",
       "      <td>2</td>\n",
       "      <td>45000</td>\n",
       "    </tr>\n",
       "    <tr>\n",
       "      <th>4</th>\n",
       "      <td>5</td>\n",
       "      <td>967.776</td>\n",
       "      <td>11</td>\n",
       "      <td>14</td>\n",
       "      <td>3</td>\n",
       "      <td>2</td>\n",
       "      <td>2</td>\n",
       "      <td>45000</td>\n",
       "    </tr>\n",
       "  </tbody>\n",
       "</table>\n",
       "</div>"
      ],
      "text/plain": [
       "   Unnamed: 0      Sqft  Floor  TotalFloor  Bedroom  Living.Room  Bathroom  \\\n",
       "0           1  1177.698      2           7        2            2         2   \n",
       "1           2  2134.800      5           7        4            2         2   \n",
       "2           3  1138.560      5           7        2            2         1   \n",
       "3           4  1458.780      2           7        3            2         2   \n",
       "4           5   967.776     11          14        3            2         2   \n",
       "\n",
       "   Price  \n",
       "0  62000  \n",
       "1  78000  \n",
       "2  58000  \n",
       "3  45000  \n",
       "4  45000  "
      ]
     },
     "execution_count": 2,
     "metadata": {},
     "output_type": "execute_result"
    }
   ],
   "source": [
    "# Importing dataset\n",
    "url = \"https://raw.githubusercontent.com/edyoda/data-science-complete-tutorial/master/Data/house_rental_data.csv.txt\"\n",
    "df = pd.read_csv(url)\n",
    "df.head()"
   ]
  },
  {
   "cell_type": "code",
   "execution_count": 3,
   "id": "9f8e6c0e",
   "metadata": {},
   "outputs": [],
   "source": [
    "# Removing the 'Unnamed' column from the dataset\n",
    "df.reset_index(drop = True)\n",
    "df = df.loc[:, ~df.columns.str.contains('^Unnamed')]"
   ]
  },
  {
   "cell_type": "code",
   "execution_count": 4,
   "id": "271e85e3",
   "metadata": {},
   "outputs": [],
   "source": [
    "from sklearn.preprocessing import MinMaxScaler\n",
    "from sklearn.preprocessing import StandardScaler, normalize\n",
    "from scipy.cluster.hierarchy import dendrogram, linkage\n",
    "from sklearn.cluster import KMeans\n",
    "from scipy.cluster import hierarchy\n",
    "from scipy.spatial.distance import cdist\n",
    "from sklearn.decomposition import PCA\n",
    "from sklearn.cluster import AgglomerativeClustering\n",
    "from sklearn import metrics\n",
    "from sklearn.metrics import silhouette_score\n",
    "import scipy.cluster.hierarchy as shc"
   ]
  },
  {
   "cell_type": "code",
   "execution_count": 5,
   "id": "8cf8c402",
   "metadata": {},
   "outputs": [],
   "source": [
    "scaler = StandardScaler()\n",
    "scaled_data = scaler.fit_transform(df)"
   ]
  },
  {
   "cell_type": "code",
   "execution_count": 6,
   "id": "17377508",
   "metadata": {},
   "outputs": [
    {
     "data": {
      "text/html": [
       "<div>\n",
       "<style scoped>\n",
       "    .dataframe tbody tr th:only-of-type {\n",
       "        vertical-align: middle;\n",
       "    }\n",
       "\n",
       "    .dataframe tbody tr th {\n",
       "        vertical-align: top;\n",
       "    }\n",
       "\n",
       "    .dataframe thead th {\n",
       "        text-align: right;\n",
       "    }\n",
       "</style>\n",
       "<table border=\"1\" class=\"dataframe\">\n",
       "  <thead>\n",
       "    <tr style=\"text-align: right;\">\n",
       "      <th></th>\n",
       "      <th>0</th>\n",
       "      <th>1</th>\n",
       "      <th>2</th>\n",
       "      <th>3</th>\n",
       "      <th>4</th>\n",
       "      <th>5</th>\n",
       "      <th>6</th>\n",
       "    </tr>\n",
       "  </thead>\n",
       "  <tbody>\n",
       "    <tr>\n",
       "      <th>count</th>\n",
       "      <td>6.450000e+02</td>\n",
       "      <td>6.450000e+02</td>\n",
       "      <td>6.450000e+02</td>\n",
       "      <td>6.450000e+02</td>\n",
       "      <td>6.450000e+02</td>\n",
       "      <td>6.450000e+02</td>\n",
       "      <td>6.450000e+02</td>\n",
       "    </tr>\n",
       "    <tr>\n",
       "      <th>mean</th>\n",
       "      <td>4.406467e-17</td>\n",
       "      <td>-4.406467e-17</td>\n",
       "      <td>-4.406467e-17</td>\n",
       "      <td>-1.432102e-16</td>\n",
       "      <td>2.451097e-16</td>\n",
       "      <td>3.304850e-17</td>\n",
       "      <td>-1.046536e-16</td>\n",
       "    </tr>\n",
       "    <tr>\n",
       "      <th>std</th>\n",
       "      <td>1.000776e+00</td>\n",
       "      <td>1.000776e+00</td>\n",
       "      <td>1.000776e+00</td>\n",
       "      <td>1.000776e+00</td>\n",
       "      <td>1.000776e+00</td>\n",
       "      <td>1.000776e+00</td>\n",
       "      <td>1.000776e+00</td>\n",
       "    </tr>\n",
       "    <tr>\n",
       "      <th>min</th>\n",
       "      <td>-1.523619e+00</td>\n",
       "      <td>-1.272516e+00</td>\n",
       "      <td>-1.974190e+00</td>\n",
       "      <td>-1.819099e+00</td>\n",
       "      <td>-3.926263e+00</td>\n",
       "      <td>-2.651152e+00</td>\n",
       "      <td>-1.569526e+00</td>\n",
       "    </tr>\n",
       "    <tr>\n",
       "      <th>25%</th>\n",
       "      <td>-7.858412e-01</td>\n",
       "      <td>-7.572786e-01</td>\n",
       "      <td>-7.723470e-01</td>\n",
       "      <td>-8.289563e-01</td>\n",
       "      <td>4.026936e-01</td>\n",
       "      <td>-1.187117e+00</td>\n",
       "      <td>-6.455621e-01</td>\n",
       "    </tr>\n",
       "    <tr>\n",
       "      <th>50%</th>\n",
       "      <td>-1.362251e-01</td>\n",
       "      <td>-2.420416e-01</td>\n",
       "      <td>2.291886e-01</td>\n",
       "      <td>1.611860e-01</td>\n",
       "      <td>4.026936e-01</td>\n",
       "      <td>2.769182e-01</td>\n",
       "      <td>-3.366380e-01</td>\n",
       "    </tr>\n",
       "    <tr>\n",
       "      <th>75%</th>\n",
       "      <td>4.762700e-01</td>\n",
       "      <td>5.308140e-01</td>\n",
       "      <td>6.298029e-01</td>\n",
       "      <td>1.151328e+00</td>\n",
       "      <td>4.026936e-01</td>\n",
       "      <td>2.769182e-01</td>\n",
       "      <td>3.654621e-01</td>\n",
       "    </tr>\n",
       "    <tr>\n",
       "      <th>max</th>\n",
       "      <td>5.645358e+00</td>\n",
       "      <td>4.137473e+00</td>\n",
       "      <td>5.437174e+00</td>\n",
       "      <td>4.121755e+00</td>\n",
       "      <td>4.731650e+00</td>\n",
       "      <td>4.669023e+00</td>\n",
       "      <td>5.280163e+00</td>\n",
       "    </tr>\n",
       "  </tbody>\n",
       "</table>\n",
       "</div>"
      ],
      "text/plain": [
       "                  0             1             2             3             4  \\\n",
       "count  6.450000e+02  6.450000e+02  6.450000e+02  6.450000e+02  6.450000e+02   \n",
       "mean   4.406467e-17 -4.406467e-17 -4.406467e-17 -1.432102e-16  2.451097e-16   \n",
       "std    1.000776e+00  1.000776e+00  1.000776e+00  1.000776e+00  1.000776e+00   \n",
       "min   -1.523619e+00 -1.272516e+00 -1.974190e+00 -1.819099e+00 -3.926263e+00   \n",
       "25%   -7.858412e-01 -7.572786e-01 -7.723470e-01 -8.289563e-01  4.026936e-01   \n",
       "50%   -1.362251e-01 -2.420416e-01  2.291886e-01  1.611860e-01  4.026936e-01   \n",
       "75%    4.762700e-01  5.308140e-01  6.298029e-01  1.151328e+00  4.026936e-01   \n",
       "max    5.645358e+00  4.137473e+00  5.437174e+00  4.121755e+00  4.731650e+00   \n",
       "\n",
       "                  5             6  \n",
       "count  6.450000e+02  6.450000e+02  \n",
       "mean   3.304850e-17 -1.046536e-16  \n",
       "std    1.000776e+00  1.000776e+00  \n",
       "min   -2.651152e+00 -1.569526e+00  \n",
       "25%   -1.187117e+00 -6.455621e-01  \n",
       "50%    2.769182e-01 -3.366380e-01  \n",
       "75%    2.769182e-01  3.654621e-01  \n",
       "max    4.669023e+00  5.280163e+00  "
      ]
     },
     "execution_count": 6,
     "metadata": {},
     "output_type": "execute_result"
    }
   ],
   "source": [
    "pd.DataFrame(scaled_data).describe()"
   ]
  },
  {
   "cell_type": "code",
   "execution_count": 7,
   "id": "0052e00c",
   "metadata": {},
   "outputs": [
    {
     "data": {
      "text/plain": [
       "KMeans(n_clusters=4)"
      ]
     },
     "execution_count": 7,
     "metadata": {},
     "output_type": "execute_result"
    }
   ],
   "source": [
    "# Optimum number of clusters using elbow method -\n",
    "\n",
    "kmeans = KMeans(n_clusters = 4, init = 'k-means++')\n",
    "kmeans.fit(scaled_data)"
   ]
  },
  {
   "cell_type": "code",
   "execution_count": 8,
   "id": "1b6e3a5b",
   "metadata": {},
   "outputs": [
    {
     "data": {
      "text/plain": [
       "2154.163657347778"
      ]
     },
     "execution_count": 8,
     "metadata": {},
     "output_type": "execute_result"
    }
   ],
   "source": [
    "kmeans.inertia_"
   ]
  },
  {
   "cell_type": "code",
   "execution_count": 11,
   "id": "4bc8689e",
   "metadata": {},
   "outputs": [],
   "source": [
    "distortions = []\n",
    "inertias = []\n",
    "mapping1 = {}\n",
    "mapping2 = {}\n",
    "K = range(1, 15)\n",
    "for k in K:\n",
    "    kmeanModel = KMeans(n_clusters=k).fit(scaled_data)\n",
    "    kmeanModel.fit(scaled_data)\n",
    "\n",
    "    distortions.append(sum(np.min(cdist(scaled_data, kmeanModel.cluster_centers_,\n",
    "                                        'euclidean'), axis=1)) / scaled_data.shape[0])\n",
    "    inertias.append(kmeanModel.inertia_)\n",
    "\n",
    "    mapping1[k] = sum(np.min(cdist(scaled_data, kmeanModel.cluster_centers_,\n",
    "                                   'euclidean'), axis=1)) / scaled_data.shape[0]\n",
    "    mapping2[k] = kmeanModel.inertia_   "
   ]
  },
  {
   "cell_type": "code",
   "execution_count": 12,
   "id": "26fdb07e",
   "metadata": {},
   "outputs": [
    {
     "name": "stdout",
     "output_type": "stream",
     "text": [
      "1 : 2.3615265828331347\n",
      "2 : 1.9847844864092707\n",
      "3 : 1.7602704417124595\n",
      "4 : 1.655111948620234\n",
      "5 : 1.5233413929637645\n",
      "6 : 1.4608984740689523\n",
      "7 : 1.3988106325666905\n",
      "8 : 1.364315154473065\n",
      "9 : 1.3378795552079774\n",
      "10 : 1.2944637397092127\n",
      "11 : 1.2443921861096336\n",
      "12 : 1.2188634689725897\n",
      "13 : 1.193901476727989\n",
      "14 : 1.1756109600582942\n"
     ]
    },
    {
     "data": {
      "image/png": "[encoded data removed]",
      "text/plain": [
       "<Figure size 432x288 with 1 Axes>"
      ]
     },
     "metadata": {
      "needs_background": "light"
     },
     "output_type": "display_data"
    }
   ],
   "source": [
    "for key,val in mapping1.items():\n",
    "    print(str(key)+' : '+str(val))\n",
    "\n",
    "plt.plot(K, distortions, 'bx-')\n",
    "plt.xlabel('Values of K')\n",
    "plt.ylabel('Distortion')\n",
    "plt.title('The Elbow Method using Distortion')\n",
    "plt.show()"
   ]
  },
  {
   "cell_type": "code",
   "execution_count": 13,
   "id": "d4e71980",
   "metadata": {},
   "outputs": [
    {
     "name": "stdout",
     "output_type": "stream",
     "text": [
      "1 : 4515.0\n",
      "2 : 3205.723708410711\n",
      "3 : 2509.3019549674636\n",
      "4 : 2154.26661476476\n",
      "5 : 1880.8765014113796\n",
      "6 : 1725.217147117333\n",
      "7 : 1621.533073629977\n",
      "8 : 1518.263132509514\n",
      "9 : 1439.531475302755\n",
      "10 : 1357.5203000444913\n",
      "11 : 1297.8757653261878\n",
      "12 : 1225.577440276123\n",
      "13 : 1186.0935911665083\n",
      "14 : 1135.9491398070513\n"
     ]
    },
    {
     "data": {
      "image/png": "[encoded data removed]",
      "text/plain": [
       "<Figure size 432x288 with 1 Axes>"
      ]
     },
     "metadata": {
      "needs_background": "light"
     },
     "output_type": "display_data"
    }
   ],
   "source": [
    "for key,val in mapping2.items():\n",
    "    print(str(key)+' : '+str(val))\n",
    "plt.plot(K, inertias, 'bx-')\n",
    "plt.xlabel('Values of K')\n",
    "plt.ylabel('Inertia')\n",
    "plt.title('The Elbow Method using Inertia')\n",
    "plt.show()"
   ]
  },
  {
   "cell_type": "code",
   "execution_count": 14,
   "id": "3ea53e5a",
   "metadata": {},
   "outputs": [],
   "source": [
    "kmeans = KMeans( n_clusters = 6, init = 'k-means++')\n",
    "kmeans.fit(scaled_data)\n",
    "pred = kmeans.predict(scaled_data)"
   ]
  },
  {
   "cell_type": "code",
   "execution_count": 15,
   "id": "5a2fd2ea",
   "metadata": {},
   "outputs": [
    {
     "data": {
      "text/plain": [
       "1    221\n",
       "3    116\n",
       "2    114\n",
       "0     93\n",
       "5     73\n",
       "4     28\n",
       "Name: cluster, dtype: int64"
      ]
     },
     "execution_count": 15,
     "metadata": {},
     "output_type": "execute_result"
    }
   ],
   "source": [
    "frame = pd.DataFrame(scaled_data)\n",
    "frame['cluster'] = pred\n",
    "frame['cluster'].value_counts()"
   ]
  },
  {
   "cell_type": "code",
   "execution_count": 16,
   "id": "f77de6d5",
   "metadata": {},
   "outputs": [],
   "source": [
    "kmeans = KMeans( n_clusters = 8, init = 'k-means++')\n",
    "kmeans.fit(scaled_data)\n",
    "pred = kmeans.predict(scaled_data)"
   ]
  },
  {
   "cell_type": "code",
   "execution_count": 17,
   "id": "c8c7d3f8",
   "metadata": {},
   "outputs": [
    {
     "data": {
      "text/plain": [
       "0    174\n",
       "3    113\n",
       "5     96\n",
       "2     84\n",
       "6     76\n",
       "1     53\n",
       "7     31\n",
       "4     18\n",
       "Name: cluster, dtype: int64"
      ]
     },
     "execution_count": 17,
     "metadata": {},
     "output_type": "execute_result"
    }
   ],
   "source": [
    "frame = pd.DataFrame(scaled_data)\n",
    "frame['cluster'] = pred\n",
    "frame['cluster'].value_counts()"
   ]
  },
  {
   "cell_type": "code",
   "execution_count": null,
   "id": "9916d00d",
   "metadata": {},
   "outputs": [],
   "source": []
  }
 ],
 "metadata": {
  "kernelspec": {
   "display_name": "Python 3 (ipykernel)",
   "language": "python",
   "name": "python3"
  },
  "language_info": {
   "codemirror_mode": {
    "name": "ipython",
    "version": 3
   },
   "file_extension": ".py",
   "mimetype": "text/x-python",
   "name": "python",
   "nbconvert_exporter": "python",
   "pygments_lexer": "ipython3",
   "version": "3.9.7"
  }
 },
 "nbformat": 4,
 "nbformat_minor": 5
}
